{
 "cells": [
  {
   "cell_type": "code",
   "execution_count": 137,
   "metadata": {},
   "outputs": [
    {
     "name": "stdout",
     "output_type": "stream",
     "text": [
      "The version_information extension is already loaded. To reload it, use:\n",
      "  %reload_ext version_information\n"
     ]
    },
    {
     "data": {
      "application/json": {
       "Software versions": [
        {
         "module": "Python",
         "version": "3.7.1 64bit [Clang 4.0.1 (tags/RELEASE_401/final)]"
        },
        {
         "module": "IPython",
         "version": "7.2.0"
        },
        {
         "module": "OS",
         "version": "Darwin 18.2.0 x86_64 i386 64bit"
        },
        {
         "module": "pandas",
         "version": "0.23.4"
        }
       ]
      },
      "text/html": [
       "<table><tr><th>Software</th><th>Version</th></tr><tr><td>Python</td><td>3.7.1 64bit [Clang 4.0.1 (tags/RELEASE_401/final)]</td></tr><tr><td>IPython</td><td>7.2.0</td></tr><tr><td>OS</td><td>Darwin 18.2.0 x86_64 i386 64bit</td></tr><tr><td>pandas</td><td>0.23.4</td></tr><tr><td colspan='2'>Wed Feb 13 20:14:43 2019 PST</td></tr></table>"
      ],
      "text/latex": [
       "\\begin{tabular}{|l|l|}\\hline\n",
       "{\\bf Software} & {\\bf Version} \\\\ \\hline\\hline\n",
       "Python & 3.7.1 64bit [Clang 4.0.1 (tags/RELEASE\\_401/final)] \\\\ \\hline\n",
       "IPython & 7.2.0 \\\\ \\hline\n",
       "OS & Darwin 18.2.0 x86\\_64 i386 64bit \\\\ \\hline\n",
       "pandas & 0.23.4 \\\\ \\hline\n",
       "\\hline \\multicolumn{2}{|l|}{Wed Feb 13 20:14:43 2019 PST} \\\\ \\hline\n",
       "\\end{tabular}\n"
      ],
      "text/plain": [
       "Software versions\n",
       "Python 3.7.1 64bit [Clang 4.0.1 (tags/RELEASE_401/final)]\n",
       "IPython 7.2.0\n",
       "OS Darwin 18.2.0 x86_64 i386 64bit\n",
       "pandas 0.23.4\n",
       "Wed Feb 13 20:14:43 2019 PST"
      ]
     },
     "execution_count": 137,
     "metadata": {},
     "output_type": "execute_result"
    }
   ],
   "source": [
    "from IPython.display import HTML\n",
    "HTML('<style>div.text_cell_render{font-size:130%;}</style>')\n",
    "%load_ext version_information\n",
    "%version_information pandas"
   ]
  },
  {
   "cell_type": "markdown",
   "metadata": {},
   "source": [
    "# Goalie Pull Bayes Optimize\n",
    "\n",
    " - Solve for the posterior probabilties at time t:    \n",
    "$\n",
    "P_t(\\text{goal for}|\\text{goalie pulled})\\\\\n",
    "P_t(\\text{goal against}|\\text{goalie pulled})\n",
    "$\n",
    "\n",
    "The idea is to figure out the risk reward of pulling a goalie as a function of the time remaining in the game. For instance, if there's 3 minutes left, what is the chance that pulling the goalie will result in a goal for? What is the probability it will result in a goal against?"
   ]
  },
  {
   "cell_type": "markdown",
   "metadata": {},
   "source": [
    "## Train Bayesian Model\n",
    "\n",
    "We can model $P_t(\\text{goal}|\\text{goalie pulled})$ using a poisson distribution. We'll solve for this posterior distribution computationally using markov chain monte carlo and the `pymc3` library.\n",
    "\n",
    "Since there's no fixed end time (although there probably won't be any data more than a few minutes), I don't think we should use a uniform prior. We should select something that has a tail, but with nearly uniform distribution as small times."
   ]
  },
  {
   "cell_type": "code",
   "execution_count": 1,
   "metadata": {},
   "outputs": [],
   "source": [
    "import pandas as pd\n",
    "import numpy as np\n",
    "import requests\n",
    "from bs4 import BeautifulSoup\n",
    "import os\n",
    "import re\n",
    "import datetime\n",
    "import time\n",
    "from collections import OrderedDict\n",
    "import glob\n",
    "from tqdm import tqdm_notebook\n",
    "from colorama import Fore, Style"
   ]
  },
  {
   "cell_type": "code",
   "execution_count": null,
   "metadata": {},
   "outputs": [],
   "source": []
  }
 ],
 "metadata": {
  "kernelspec": {
   "display_name": "Python 3",
   "language": "python",
   "name": "python3"
  },
  "language_info": {
   "codemirror_mode": {
    "name": "ipython",
    "version": 3
   },
   "file_extension": ".py",
   "mimetype": "text/x-python",
   "name": "python",
   "nbconvert_exporter": "python",
   "pygments_lexer": "ipython3",
   "version": "3.7.1"
  }
 },
 "nbformat": 4,
 "nbformat_minor": 2
}
